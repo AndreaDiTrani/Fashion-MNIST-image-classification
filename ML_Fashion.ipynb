{
  "cells": [
    {
      "cell_type": "markdown",
      "metadata": {
        "id": "YmI5Ce--xuxC"
      },
      "source": [
        "# **Imports**"
      ]
    },
    {
      "cell_type": "code",
      "execution_count": null,
      "metadata": {
        "id": "X4xQWeD1tuSX"
      },
      "outputs": [],
      "source": [
        "import tensorflow as tf\n",
        "from tensorflow.keras.models import Sequential \n",
        "from tensorflow.keras.layers import Input, Dense, BatchNormalization, Dropout\n",
        "from tensorflow.keras.utils import to_categorical\n",
        "from tensorflow.keras.optimizers import *\n",
        "from tensorflow.keras.initializers import *\n",
        "from sklearn.model_selection import GridSearchCV, KFold\n",
        "\n",
        "from keras.utils.vis_utils import plot_model\n",
        "from sklearn.model_selection import train_test_split\n",
        "from tensorflow.python.framework.random_seed import set_random_seed\n",
        "\n",
        "import numpy as np\n",
        "import cv2 as cv\n",
        "\n",
        "from PIL import Image, ImageEnhance, ImageFilter\n",
        "from matplotlib.pyplot import imshow\n",
        "import matplotlib.pyplot as plt\n",
        "\n",
        "from google.colab import files\n",
        "from google.colab import drive\n",
        "\n",
        "from sklearn.tree import DecisionTreeClassifier\n",
        "from sklearn.ensemble import RandomForestClassifier\n",
        "from sklearn.svm import SVC\n",
        "from sklearn.model_selection import GridSearchCV\n",
        "import sklearn.metrics as metrics\n",
        "from sklearn.metrics import confusion_matrix, ConfusionMatrixDisplay"
      ]
    },
    {
      "cell_type": "markdown",
      "metadata": {
        "id": "aoy2nf3FxXVl"
      },
      "source": [
        "# **Load Dataset**"
      ]
    },
    {
      "cell_type": "code",
      "execution_count": null,
      "metadata": {
        "id": "qprXTMnut41p"
      },
      "outputs": [],
      "source": [
        "(x_train, y_train), (x_test, y_test) = tf.keras.datasets.fashion_mnist.load_data()\n"
      ]
    },
    {
      "cell_type": "code",
      "source": [
        "y_test_cat = to_categorical(y_test)\n",
        "x_test_ready = normalize(flatten(x_test))"
      ],
      "metadata": {
        "id": "acIigEq4r-nS"
      },
      "execution_count": null,
      "outputs": []
    },
    {
      "cell_type": "code",
      "execution_count": null,
      "metadata": {
        "id": "lbXBR7-P2TxX"
      },
      "outputs": [],
      "source": [
        "def show_img(pos, X=x_train, cmap='gray'):\n",
        "  plt.imshow(X[pos], cmap=cmap)\n",
        "  plt.show()"
      ]
    },
    {
      "cell_type": "markdown",
      "metadata": {
        "id": "DOj0vmfgHN6_"
      },
      "source": [
        "**Convert array to images**"
      ]
    },
    {
      "cell_type": "code",
      "execution_count": null,
      "metadata": {
        "id": "OOv-vAxp6urr"
      },
      "outputs": [],
      "source": [
        "def ndarray_to_PILIM(X):\n",
        "  images = []\n",
        "  for i in range(len(X)):\n",
        "    images.append(Image.fromarray(X[i]))\n",
        "  return images\n",
        "\n",
        "def PILIM_to_ndarray(X):\n",
        "  arrays = []\n",
        "  for i in range(len(X)):\n",
        "    arrays.append(np.asarray(X[i]))\n",
        "  return np.array(arrays)"
      ]
    },
    {
      "cell_type": "markdown",
      "metadata": {
        "id": "D06Ws39pxmZi"
      },
      "source": [
        "# **Preprocessing and Data Augmentation**"
      ]
    },
    {
      "cell_type": "markdown",
      "metadata": {
        "id": "vibwNMWAMuqY"
      },
      "source": [
        "**Preprocessing and Data Augmentation**\n",
        "\n",
        "\n",
        "1.   flattening\n",
        "2.   contrast\n",
        "3.   rotation\n",
        "4.   normalization\n",
        "\n"
      ]
    },
    {
      "cell_type": "markdown",
      "metadata": {
        "id": "oiKH8gbY0j0b"
      },
      "source": [
        "images transformations"
      ]
    },
    {
      "cell_type": "code",
      "execution_count": null,
      "metadata": {
        "id": "_4yhUn26HtvX"
      },
      "outputs": [],
      "source": [
        "def flatten(X):\n",
        "  x_flat = np.zeros((X.shape[0],X[0].flatten().shape[0]))\n",
        "  for i in range(X.shape[0]):\n",
        "    x_flat[i] = X[i].flatten()\n",
        "  return x_flat\n",
        "\n",
        "def contrast(X, factor=1.5):\n",
        "  out = []\n",
        "  for im in X:\n",
        "    enhancer = ImageEnhance.Contrast(im)\n",
        "    res = enhancer.enhance(factor)\n",
        "    out.append(res)\n",
        "  return out\n",
        "\n",
        "def rotate_img(image, angle=90):\n",
        "  return image.rotate(angle)\n",
        "\n",
        "def rotate(X, angle=90):\n",
        "  x_rotated = list(map(rotate_img, X))\n",
        "  return x_rotated"
      ]
    },
    {
      "cell_type": "markdown",
      "metadata": {
        "id": "vtqffU5T0sj5"
      },
      "source": [
        "numerical transformations"
      ]
    },
    {
      "cell_type": "code",
      "execution_count": null,
      "metadata": {
        "id": "spS7dBTw0sHq"
      },
      "outputs": [],
      "source": [
        "def normalize(X):\n",
        "  x_norm = X/255\n",
        "  return x_norm"
      ]
    },
    {
      "cell_type": "code",
      "execution_count": null,
      "metadata": {
        "id": "CSyUeGgxh2zs"
      },
      "outputs": [],
      "source": [
        "im_fun = ['contrast']\n",
        "num_fun = ['normalize']\n",
        "\n",
        "def preprocessing(X, y, im_fun=im_fun, num_fun=num_fun):\n",
        "  out = ndarray_to_PILIM(X)\n",
        "  x_images = ndarray_to_PILIM(X)\n",
        "  if im_fun:\n",
        "    for f in im_fun:\n",
        "      out = out + globals()[f](x_images)\n",
        "      y = np.concatenate((y, y))\n",
        "  out = PILIM_to_ndarray(out)\n",
        "  if num_fun:\n",
        "    for f in num_fun:\n",
        "      out = globals()[f](out)\n",
        "  return flatten(out),y\n",
        "  \n"
      ]
    },
    {
      "cell_type": "code",
      "execution_count": null,
      "metadata": {
        "id": "bJ42qSNjolJM"
      },
      "outputs": [],
      "source": [
        "\n",
        "x_train_ready = normalize(flatten(x_train))\n",
        "y_train_cat = to_categorical(y_train)\n"
      ]
    },
    {
      "cell_type": "code",
      "source": [
        "x_train_ready, x_val, y_train_cat, y_val = train_test_split(\n",
        "    x_train_ready, y_train_cat, test_size=0.2, shuffle=True,\n",
        "    random_state=50\n",
        ")"
      ],
      "metadata": {
        "id": "SM_oImV1DNAM"
      },
      "execution_count": null,
      "outputs": []
    },
    {
      "cell_type": "code",
      "source": [
        "x_val.shape"
      ],
      "metadata": {
        "colab": {
          "base_uri": "https://localhost:8080/"
        },
        "id": "nxA9KQaShFU8",
        "outputId": "9f2c0c68-501f-4c6a-96fd-3894fc96c2be"
      },
      "execution_count": null,
      "outputs": [
        {
          "output_type": "execute_result",
          "data": {
            "text/plain": [
              "(12000, 784)"
            ]
          },
          "metadata": {},
          "execution_count": 9
        }
      ]
    },
    {
      "cell_type": "markdown",
      "metadata": {
        "id": "wlpnzw5uzQ4K"
      },
      "source": [
        "# **Models**"
      ]
    },
    {
      "cell_type": "code",
      "source": [
        "\"\"\"\n",
        "Returns a compiled model\n",
        "- n_units: [list] number of neurons for each hidden layer\n",
        "- activation_fs: [list] activation function for each hidden layer\n",
        "- opt: the optimizer\n",
        "- loss_f: the loss function. use \"categorical_crossentropy\" with one-hot encoding, and tf.keras.losses.SparseCategoricalCrossentropy() with KFold\n",
        "\n",
        "nb: the size of n_units, activation_fs must be the same\n",
        "\"\"\"\n",
        "def MLP_definer(n_units, activation_fs, opt, loss_f):\n",
        "\n",
        "  np.random.seed(50)\n",
        "  set_random_seed(50)\n",
        " \n",
        "  model = Sequential()\n",
        "  model.add(Dense\n",
        "            (input_dim = n_features, \n",
        "              units = n_features, \n",
        "              activation=\"relu\"))\n",
        "   \n",
        "  for i in range(len(n_units)):\n",
        "    model.add(Dense(\n",
        "        units = n_units[i],\n",
        "        activation = activation_fs[i],\n",
        "        kernel_initializer = \"random_uniform\"))\n",
        "\n",
        "  model.add(Dense(units = num_classes, activation='softmax')) #output layer\n",
        "\n",
        "  model.compile(loss = loss_f, #tf.keras.losses.SparseCategoricalCrossentropy()\n",
        "      optimizer = opt,  #optimizer\n",
        "      metrics = ['accuracy']) #displayed metric\n",
        "\n",
        "\n",
        "  return model\n",
        "\n",
        "\n",
        "\n",
        "'''\n",
        "The same function as above but we add a Dropout layer after each Dense \n",
        "- drop_prob: probability for the dropout layer (es. 0.30)\n",
        "'''\n",
        "\n",
        "def MLP_definer_drop(n_units, activation_fs, opt, drop_prob, loss_f):\n",
        "\n",
        "  np.random.seed(50)\n",
        "  set_random_seed(50)\n",
        "\n",
        "  model = Sequential()\n",
        "  model.add(Dense\n",
        "            (input_dim = n_features, \n",
        "              units = n_features, \n",
        "              activation=\"relu\"))\n",
        "   \n",
        "  for i in range(len(n_units)):\n",
        "    model.add(Dense(\n",
        "        units = n_units[i],\n",
        "        activation = activation_fs[i]))\n",
        "    \n",
        "    model.add(Dropout(drop_prob))\n",
        "    model.add(BatchNormalization())\n",
        "\n",
        "  model.add(Dense(units = num_classes, activation='softmax')) #output layer\n",
        "\n",
        "  model.compile(loss = loss_f, #tf.keras.losses.SparseCategoricalCrossentropy()\n",
        "      optimizer = opt,  #optimizer\n",
        "      metrics = ['accuracy']) #displayed metric\n",
        "\n",
        "\n",
        "  return model"
      ],
      "metadata": {
        "id": "rh4eAuznY3Cg"
      },
      "execution_count": null,
      "outputs": []
    },
    {
      "cell_type": "code",
      "execution_count": null,
      "metadata": {
        "id": "zpNS8ayrjUgc"
      },
      "outputs": [],
      "source": [
        "def layer_builder(units, activation_f='relu', drop=False, batch_n=False, initializer='random_normal'):\n",
        "  layer = Dense(units, activation = activation_f, kernel_initializer = initializer)\n",
        "  out=[layer]\n",
        "\n",
        "  if drop:\n",
        "    drop_l = Dropout(drop)\n",
        "    out.append(drop_l)\n",
        "  if batch_n:\n",
        "    batch_l = BatchNormalization()\n",
        "    out.append(batch_l)\n",
        "\n",
        "  return out"
      ]
    },
    {
      "cell_type": "code",
      "execution_count": null,
      "metadata": {
        "id": "vYmrjnpxpjVF"
      },
      "outputs": [],
      "source": [
        "def MLP_definer(layers, opt='sgd', loss_f='categorical_crossentropy', metrics=['accuracy'], n_class=10, n_features=784):\n",
        "  np.random.seed(50)\n",
        "  set_random_seed(50)\n",
        "\n",
        "  model = Sequential()\n",
        "  model.add(Dense(input_dim=n_features, units=n_features, activation='relu'))\n",
        "  \n",
        "  for i in range(len(layers)-1):\n",
        "    for l in layers[i]:\n",
        "      model.add(l)\n",
        "      \n",
        "  model.add(layers[-1])\n",
        "  \n",
        "  model.compile(loss=loss_f, optimizer=opt, metrics=metrics)\n",
        "  return model\n"
      ]
    },
    {
      "cell_type": "code",
      "execution_count": null,
      "metadata": {
        "id": "7zOFMW7NsbZc"
      },
      "outputs": [],
      "source": [
        "layer_dict = {'units':[512,256,10],\n",
        "              'activation_f':'relu',\n",
        "              'drop':0.5,\n",
        "              'batch_n':False,\n",
        "              'kernel_initializer':'glorot_uniform'}\n",
        "\n",
        "model_dict = {'opt':SGD(),\n",
        "              'loss_f':'categorical_crossentropy',\n",
        "              'metrics':['accuracy'],\n",
        "              'n_features':784}\n",
        "\n",
        "\n",
        "\n",
        "def MLP_builder(l_dict, m_dict):\n",
        "  layers=[]\n",
        "\n",
        "  for i in range(len(l_dict['units'])-1):\n",
        "    new_l = layer_builder(l_dict['units'][i],\n",
        "                          activation_f=l_dict['activation_f'],\n",
        "                          drop=l_dict['drop'],\n",
        "                          batch_n=l_dict['batch_n'],\n",
        "                          initializer=l_dict['kernel_initializer'])\n",
        "    layers.append(new_l)\n",
        "\n",
        "  layers.append(Dense(l_dict['units'][-1],\n",
        "                      activation='softmax'))\n",
        "  \n",
        "\n",
        "  model = MLP_definer(layers,\n",
        "                      opt=m_dict['opt'],\n",
        "                      loss_f=m_dict['loss_f'],\n",
        "                      metrics=m_dict['metrics'],\n",
        "                      n_features=m_dict['n_features'])\n",
        "  return model"
      ]
    },
    {
      "cell_type": "code",
      "execution_count": null,
      "metadata": {
        "id": "cKsdOogM9wRh"
      },
      "outputs": [],
      "source": [
        "def MLPs_builder(l_dict, m_dict):\n",
        "  models = []\n",
        "\n",
        "  for e in range(len(l_dict['activation_f'])):\n",
        "    for p in range(len(l_dict['batch_n'])):\n",
        "      for d in range(len(l_dict['drop'])):\n",
        "        for k in range(len(l_dict['kernel_initializer'])):\n",
        "          for ls_units in l_dict['units']:\n",
        "            layersa = []\n",
        "            for i in range(len(ls_units)-1):\n",
        "              new_l = layer_builder(units=ls_units[i],\n",
        "                                    initializer = l_dict['kernel_initializer'][k],\n",
        "                                    activation_f = l_dict['activation_f'][e],\n",
        "                                    drop = l_dict['drop'][d],\n",
        "                                    batch_n = l_dict['batch_n'][p])\n",
        "              layersa.append(new_l)\n",
        "            \n",
        "            layersa.append(Dense(ls_units[-1],\n",
        "                            activation='softmax'))\n",
        "\n",
        "            for o in range(len(m_dict['opt'])):\n",
        "              model = MLP_definer(layers = layersa,\n",
        "                                  opt = m_dict['opt'][o],\n",
        "                                  loss_f = m_dict['loss_f'],\n",
        "                                  n_features = m_dict['n_features'])\n",
        "\n",
        "              models.append(model)\n",
        "\n",
        "  return models"
      ]
    },
    {
      "cell_type": "markdown",
      "metadata": {
        "id": "HcAB9HVO4FOq"
      },
      "source": [
        "# **Tests**"
      ]
    },
    {
      "cell_type": "markdown",
      "metadata": {
        "id": "t_NmXRT14LVc"
      },
      "source": [
        "Test funzioni costruzione modello"
      ]
    },
    {
      "cell_type": "code",
      "execution_count": null,
      "metadata": {
        "id": "Zn5ptrUuCJbG"
      },
      "outputs": [],
      "source": [
        "def train_models(model_list, x, y, x_val, y_val, min_acc=0.7, epochs=50):\n",
        "  hst=[]\n",
        "  for model in model_list:\n",
        "    print('Training model {}/{}'.format(model_list.index(model)+1, len(model_list)))\n",
        "    model_hist = model.fit(x, y,\n",
        "                           epochs=epochs,\n",
        "                           batch_size=256,\n",
        "                           validation_data=(x_val, y_val),\n",
        "                           verbose=1)\n",
        "    best_epoch = get_best_epoch(model_hist.history)\n",
        "    if best_epoch['val_accuracy'] > min_acc:\n",
        "      hst.append(model_hist)\n",
        "\n",
        "  return hst"
      ]
    },
    {
      "cell_type": "code",
      "execution_count": null,
      "metadata": {
        "id": "jxqb8adsHQuF"
      },
      "outputs": [],
      "source": [
        "def get_best_epoch(diz, watch='val_accuracy'):\n",
        "\n",
        "  if(watch == \"val_accuracy\" or watch == \"accuracy\"):\n",
        "\n",
        "    if(watch == \"val_accuracy\"):\n",
        "      ls = diz.get(\"val_accuracy\")\n",
        "      acc_val_max = max(ls)\n",
        "      ind = ls.index(acc_val_max)\n",
        "\n",
        "      ls2 = diz.get(\"accuracy\")\n",
        "      acc_max = ls2[ind]\n",
        "\n",
        "    elif(watch == \"accuracy\"):\n",
        "      ls = diz.get(\"accuracy\")\n",
        "      acc_max = max(ls)\n",
        "      ind = ls.index(acc_max)\n",
        "\n",
        "      ls2 = diz.get(\"val_accuracy\")\n",
        "      acc_val_max = ls2[ind]\n",
        "\n",
        "    ls1 = diz.get(\"loss\")\n",
        "    loss_ = ls1[ind]\n",
        "\n",
        "    ls3 = diz.get(\"val_loss\")\n",
        "    loss_val_ = ls3[ind]\n",
        "\n",
        "    out = {\n",
        "        \"accuracy\": acc_max,\n",
        "        \"loss\": loss_,\n",
        "        \"val_accuracy\": acc_val_max,\n",
        "        \"val_loss\": loss_val_,\n",
        "        \"ind\": ind\n",
        "        }\n",
        "\n",
        "    return out\n",
        "\n",
        "  else:\n",
        "    print(\"only val_accuracy or accuracy are suitable params\")"
      ]
    },
    {
      "cell_type": "code",
      "execution_count": null,
      "metadata": {
        "id": "SPgnJpnKI34J"
      },
      "outputs": [],
      "source": [
        "def print_hist(hist_list):\n",
        "\n",
        "  optimizers = [SGD, Adam]\n",
        "  opt_names = ['SGD', 'Adam']\n",
        "  initilizers = [GlorotUniform, GlorotNormal, RandomUniform, RandomNormal]\n",
        "  init_names = ['glorot_uniform', 'glorot_normal', 'random_uniform', 'random_normal']\n",
        "\n",
        "  for hst in hist_list:\n",
        "    best = get_best_epoch(hst.history)\n",
        "    print(\"============================================================================\")\n",
        "\n",
        "    units=[]\n",
        "    for l in hst.model.layers:\n",
        "      try:\n",
        "        units.append(l.units)\n",
        "      except:\n",
        "        pass\n",
        "    print('UNITS: ',units)\n",
        "\n",
        "    for k in range(len(initilizers)):\n",
        "      if isinstance(hst.model.layers[1].kernel_initializer, initilizers[k]):\n",
        "        print(\"INIT: \",init_names[k], end=\" - \")\n",
        "        \n",
        "    for i in range(len(optimizers)):\n",
        "      if isinstance(hst.model.optimizer, optimizers[i]):\n",
        "        print(\"OPT: {0}(lr={1:.3f})\".format(opt_names[i],float(hst.model.optimizer.learning_rate.value())), end=\" - \")\n",
        "    \n",
        "    #il primo layer di drop (se esiste) ha indice 2. (input, primo dense, drop)\n",
        "    if isinstance(hst.model.layers[2], Dropout):\n",
        "      print(\"DROP: \",hst.model.layers[2].rate, end=\" - \")\n",
        "    else:\n",
        "      print(\"DROP: False\", end=\" - \")\n",
        "    \n",
        "    #il primo layer di batch normalization sta in posizione 2 o 3\n",
        "    #a seconda che venga usato il drop o meno\n",
        "    if isinstance(hst.model.layers[2], BatchNormalization):\n",
        "      print(\"BATCH_NORM: True\")\n",
        "    else:\n",
        "      if len(hst.model.layers) > 3 and isinstance(hst.model.layers[3], BatchNormalization):\n",
        "        print(\"BATCH_NORM: True\")\n",
        "      else:\n",
        "        print(\"BATCH_NORM: False\")\n",
        "    \n",
        "    print(\"LAST VAL_ACC: \", hst.history[\"val_accuracy\"][-1])\n",
        "    print(\"LAST VAL_LOSS: \", hst.history[\"val_loss\"][-1])\n",
        "    print(\"BEST: \", best)\n",
        "\n",
        "    plot_history(hst)\n",
        "\n",
        "    print(\"============================================================================\")"
      ]
    },
    {
      "cell_type": "code",
      "source": [
        "def plot_history(histo):\n",
        "\n",
        "  plt.plot(histo.history['accuracy'])\n",
        "  plt.plot(histo.history['val_accuracy'])\n",
        "  plt.ylabel('accuracy')\n",
        "  plt.xlabel('epoch')\n",
        "  plt.legend(['accuracy', 'val_accuracy'], loc='upper left')\n",
        "  plt.show()\n",
        "\n",
        "  plt.plot(histo.history['loss'])\n",
        "  plt.plot(histo.history['val_loss'])\n",
        "  plt.ylabel('loss')\n",
        "  plt.xlabel('epoch')\n",
        "  plt.legend(['accuracy', 'val_accuracy'], loc='upper left')\n",
        "  plt.show()\n",
        " "
      ],
      "metadata": {
        "id": "IkBxqUZigSI2"
      },
      "execution_count": null,
      "outputs": []
    },
    {
      "cell_type": "code",
      "execution_count": null,
      "metadata": {
        "id": "fOvAL9CIoZgV"
      },
      "outputs": [],
      "source": [
        "opt_list = [SGD()]\n",
        "layer_dict = {'units':[[512,256,128,64,32,30,20,10]],\n",
        "              'activation_f': ['relu'],\n",
        "              'drop': [False], \n",
        "              'batch_n': [False],\n",
        "              'kernel_initializer': ['random_normal'] }\n",
        "\n",
        "\n",
        "model_dict = {'opt': opt_list,\n",
        "              'loss_f':'categorical_crossentropy',\n",
        "              'metrics': ['accuracy'],\n",
        "              'n_features': 784}"
      ]
    },
    {
      "cell_type": "code",
      "execution_count": null,
      "metadata": {
        "colab": {
          "base_uri": "https://localhost:8080/"
        },
        "id": "M5S6DCo3ozrk",
        "outputId": "df84eed8-c37a-4f9d-8049-8b0f522847b0"
      },
      "outputs": [
        {
          "output_type": "stream",
          "name": "stdout",
          "text": [
            "1\n"
          ]
        }
      ],
      "source": [
        "model_list = MLPs_builder(layer_dict, model_dict)\n",
        "print(len(model_list))"
      ]
    },
    {
      "cell_type": "code",
      "source": [
        "print(model_list[0].summary())"
      ],
      "metadata": {
        "colab": {
          "base_uri": "https://localhost:8080/"
        },
        "id": "HqeH43YiS9Sx",
        "outputId": "3bfbe046-b35c-42a4-f95c-fb2a745d9e09"
      },
      "execution_count": null,
      "outputs": [
        {
          "output_type": "stream",
          "name": "stdout",
          "text": [
            "Model: \"sequential\"\n",
            "_________________________________________________________________\n",
            " Layer (type)                Output Shape              Param #   \n",
            "=================================================================\n",
            " dense_7 (Dense)             (None, 784)               615440    \n",
            "                                                                 \n",
            " dense (Dense)               (None, 512)               401920    \n",
            "                                                                 \n",
            " dense_1 (Dense)             (None, 256)               131328    \n",
            "                                                                 \n",
            " dense_2 (Dense)             (None, 128)               32896     \n",
            "                                                                 \n",
            " dense_3 (Dense)             (None, 64)                8256      \n",
            "                                                                 \n",
            " dense_4 (Dense)             (None, 32)                2080      \n",
            "                                                                 \n",
            " dense_5 (Dense)             (None, 16)                528       \n",
            "                                                                 \n",
            " dense_6 (Dense)             (None, 10)                170       \n",
            "                                                                 \n",
            "=================================================================\n",
            "Total params: 1,192,618\n",
            "Trainable params: 1,192,618\n",
            "Non-trainable params: 0\n",
            "_________________________________________________________________\n",
            "None\n"
          ]
        }
      ]
    },
    {
      "cell_type": "code",
      "execution_count": null,
      "metadata": {
        "colab": {
          "base_uri": "https://localhost:8080/"
        },
        "id": "jJ4oOnB4Gnx7",
        "outputId": "cf56edc7-6ab7-42d8-ec35-bf6894dc7bb4"
      },
      "outputs": [
        {
          "output_type": "stream",
          "name": "stdout",
          "text": [
            "Training model 1/1\n",
            "Epoch 1/200\n",
            "188/188 [==============================] - 2s 10ms/step - loss: 2.3026 - accuracy: 0.0987 - val_loss: 2.3026 - val_accuracy: 0.0973\n",
            "Epoch 2/200\n",
            "188/188 [==============================] - 2s 8ms/step - loss: 2.3025 - accuracy: 0.1036 - val_loss: 2.3026 - val_accuracy: 0.0991\n",
            "Epoch 3/200\n",
            "188/188 [==============================] - 2s 8ms/step - loss: 2.3025 - accuracy: 0.1020 - val_loss: 2.3025 - val_accuracy: 0.0959\n",
            "Epoch 4/200\n",
            "188/188 [==============================] - 2s 9ms/step - loss: 2.3025 - accuracy: 0.1010 - val_loss: 2.3025 - val_accuracy: 0.1187\n",
            "Epoch 5/200\n",
            "188/188 [==============================] - 2s 8ms/step - loss: 2.3024 - accuracy: 0.1048 - val_loss: 2.3025 - val_accuracy: 0.1199\n",
            "Epoch 6/200\n",
            "188/188 [==============================] - 2s 9ms/step - loss: 2.3024 - accuracy: 0.1090 - val_loss: 2.3025 - val_accuracy: 0.0993\n",
            "Epoch 7/200\n",
            "188/188 [==============================] - 2s 8ms/step - loss: 2.3024 - accuracy: 0.1123 - val_loss: 2.3025 - val_accuracy: 0.0959\n",
            "Epoch 8/200\n",
            "188/188 [==============================] - 2s 8ms/step - loss: 2.3024 - accuracy: 0.1026 - val_loss: 2.3025 - val_accuracy: 0.0959\n",
            "Epoch 9/200\n",
            "188/188 [==============================] - 2s 8ms/step - loss: 2.3023 - accuracy: 0.1010 - val_loss: 2.3024 - val_accuracy: 0.0959\n",
            "Epoch 10/200\n",
            "188/188 [==============================] - 2s 8ms/step - loss: 2.3023 - accuracy: 0.1010 - val_loss: 2.3024 - val_accuracy: 0.0959\n",
            "Epoch 11/200\n",
            "188/188 [==============================] - 2s 8ms/step - loss: 2.3022 - accuracy: 0.1011 - val_loss: 2.3023 - val_accuracy: 0.0959\n",
            "Epoch 12/200\n",
            "188/188 [==============================] - 2s 8ms/step - loss: 2.3022 - accuracy: 0.1010 - val_loss: 2.3023 - val_accuracy: 0.0959\n",
            "Epoch 13/200\n",
            "188/188 [==============================] - 2s 8ms/step - loss: 2.3021 - accuracy: 0.1009 - val_loss: 2.3022 - val_accuracy: 0.0959\n",
            "Epoch 14/200\n",
            "188/188 [==============================] - 2s 9ms/step - loss: 2.3020 - accuracy: 0.1096 - val_loss: 2.3021 - val_accuracy: 0.0959\n",
            "Epoch 15/200\n",
            "188/188 [==============================] - 2s 8ms/step - loss: 2.3020 - accuracy: 0.1014 - val_loss: 2.3021 - val_accuracy: 0.0959\n",
            "Epoch 16/200\n",
            "188/188 [==============================] - 2s 8ms/step - loss: 2.3019 - accuracy: 0.1010 - val_loss: 2.3020 - val_accuracy: 0.0963\n",
            "Epoch 17/200\n",
            "188/188 [==============================] - 2s 8ms/step - loss: 2.3018 - accuracy: 0.1030 - val_loss: 2.3019 - val_accuracy: 0.0991\n",
            "Epoch 18/200\n",
            "188/188 [==============================] - 2s 9ms/step - loss: 2.3017 - accuracy: 0.1130 - val_loss: 2.3017 - val_accuracy: 0.0966\n",
            "Epoch 19/200\n",
            "188/188 [==============================] - 2s 9ms/step - loss: 2.3015 - accuracy: 0.1034 - val_loss: 2.3016 - val_accuracy: 0.1088\n",
            "Epoch 20/200\n",
            "188/188 [==============================] - 2s 9ms/step - loss: 2.3014 - accuracy: 0.1031 - val_loss: 2.3014 - val_accuracy: 0.1283\n",
            "Epoch 21/200\n",
            "188/188 [==============================] - 2s 8ms/step - loss: 2.3011 - accuracy: 0.1133 - val_loss: 2.3012 - val_accuracy: 0.1272\n",
            "Epoch 22/200\n",
            "188/188 [==============================] - 2s 9ms/step - loss: 2.3009 - accuracy: 0.1178 - val_loss: 2.3008 - val_accuracy: 0.1232\n",
            "Epoch 23/200\n",
            "188/188 [==============================] - 2s 9ms/step - loss: 2.3005 - accuracy: 0.1192 - val_loss: 2.3004 - val_accuracy: 0.1192\n",
            "Epoch 24/200\n",
            "188/188 [==============================] - 2s 9ms/step - loss: 2.2999 - accuracy: 0.1280 - val_loss: 2.2997 - val_accuracy: 0.1173\n",
            "Epoch 25/200\n",
            "188/188 [==============================] - 2s 9ms/step - loss: 2.2991 - accuracy: 0.1229 - val_loss: 2.2987 - val_accuracy: 0.1171\n",
            "Epoch 26/200\n",
            "188/188 [==============================] - 2s 9ms/step - loss: 2.2978 - accuracy: 0.1262 - val_loss: 2.2971 - val_accuracy: 0.1563\n",
            "Epoch 27/200\n",
            "188/188 [==============================] - 2s 9ms/step - loss: 2.2957 - accuracy: 0.1651 - val_loss: 2.2944 - val_accuracy: 0.1918\n",
            "Epoch 28/200\n",
            "188/188 [==============================] - 2s 8ms/step - loss: 2.2919 - accuracy: 0.1959 - val_loss: 2.2891 - val_accuracy: 0.1721\n",
            "Epoch 29/200\n",
            "188/188 [==============================] - 2s 9ms/step - loss: 2.2837 - accuracy: 0.1834 - val_loss: 2.2765 - val_accuracy: 0.1838\n",
            "Epoch 30/200\n",
            "188/188 [==============================] - 2s 9ms/step - loss: 2.2603 - accuracy: 0.1894 - val_loss: 2.2352 - val_accuracy: 0.2045\n",
            "Epoch 31/200\n",
            "188/188 [==============================] - 2s 8ms/step - loss: 2.1735 - accuracy: 0.2013 - val_loss: 2.0946 - val_accuracy: 0.2068\n",
            "Epoch 32/200\n",
            "188/188 [==============================] - 2s 9ms/step - loss: 2.0176 - accuracy: 0.2074 - val_loss: 1.9552 - val_accuracy: 0.2128\n",
            "Epoch 33/200\n",
            "188/188 [==============================] - 2s 8ms/step - loss: 1.9123 - accuracy: 0.2131 - val_loss: 1.8701 - val_accuracy: 0.2204\n",
            "Epoch 34/200\n",
            "188/188 [==============================] - 2s 8ms/step - loss: 1.8310 - accuracy: 0.2212 - val_loss: 1.7842 - val_accuracy: 0.2282\n",
            "Epoch 35/200\n",
            "188/188 [==============================] - 2s 9ms/step - loss: 1.7237 - accuracy: 0.2547 - val_loss: 1.6307 - val_accuracy: 0.2993\n",
            "Epoch 36/200\n",
            "188/188 [==============================] - 2s 9ms/step - loss: 1.4587 - accuracy: 0.3923 - val_loss: 1.2708 - val_accuracy: 0.4643\n",
            "Epoch 37/200\n",
            "188/188 [==============================] - 2s 9ms/step - loss: 1.2988 - accuracy: 0.4284 - val_loss: 1.4498 - val_accuracy: 0.4086\n",
            "Epoch 38/200\n",
            "188/188 [==============================] - 2s 8ms/step - loss: 1.1735 - accuracy: 0.5017 - val_loss: 1.3028 - val_accuracy: 0.5120\n",
            "Epoch 39/200\n",
            "188/188 [==============================] - 2s 9ms/step - loss: 1.1234 - accuracy: 0.5527 - val_loss: 1.1270 - val_accuracy: 0.5747\n",
            "Epoch 40/200\n",
            "188/188 [==============================] - 2s 9ms/step - loss: 1.0908 - accuracy: 0.5874 - val_loss: 0.9726 - val_accuracy: 0.6604\n",
            "Epoch 41/200\n",
            "188/188 [==============================] - 2s 8ms/step - loss: 1.0223 - accuracy: 0.6191 - val_loss: 0.9440 - val_accuracy: 0.6563\n",
            "Epoch 42/200\n",
            "188/188 [==============================] - 2s 9ms/step - loss: 0.9742 - accuracy: 0.6406 - val_loss: 1.0888 - val_accuracy: 0.5771\n",
            "Epoch 43/200\n",
            "188/188 [==============================] - 2s 9ms/step - loss: 0.9498 - accuracy: 0.6504 - val_loss: 0.9535 - val_accuracy: 0.6394\n",
            "Epoch 44/200\n",
            "188/188 [==============================] - 2s 9ms/step - loss: 0.9220 - accuracy: 0.6539 - val_loss: 0.8209 - val_accuracy: 0.6984\n",
            "Epoch 45/200\n",
            "188/188 [==============================] - 2s 8ms/step - loss: 0.8579 - accuracy: 0.6765 - val_loss: 0.8650 - val_accuracy: 0.6678\n",
            "Epoch 46/200\n",
            "188/188 [==============================] - 2s 9ms/step - loss: 0.8450 - accuracy: 0.6844 - val_loss: 0.7967 - val_accuracy: 0.7057\n",
            "Epoch 47/200\n",
            "188/188 [==============================] - 2s 8ms/step - loss: 0.8190 - accuracy: 0.6899 - val_loss: 0.8405 - val_accuracy: 0.6306\n",
            "Epoch 48/200\n",
            "188/188 [==============================] - 2s 9ms/step - loss: 0.7752 - accuracy: 0.7038 - val_loss: 0.9104 - val_accuracy: 0.6458\n",
            "Epoch 49/200\n",
            "188/188 [==============================] - 2s 8ms/step - loss: 0.7828 - accuracy: 0.7018 - val_loss: 0.7744 - val_accuracy: 0.7167\n",
            "Epoch 50/200\n",
            "188/188 [==============================] - 2s 8ms/step - loss: 0.7290 - accuracy: 0.7200 - val_loss: 0.7338 - val_accuracy: 0.7075\n",
            "Epoch 51/200\n",
            "188/188 [==============================] - 2s 8ms/step - loss: 0.7153 - accuracy: 0.7281 - val_loss: 1.0271 - val_accuracy: 0.6522\n",
            "Epoch 52/200\n",
            "188/188 [==============================] - 2s 8ms/step - loss: 0.7090 - accuracy: 0.7337 - val_loss: 0.6786 - val_accuracy: 0.7197\n",
            "Epoch 53/200\n",
            "188/188 [==============================] - 2s 9ms/step - loss: 0.6788 - accuracy: 0.7478 - val_loss: 0.6278 - val_accuracy: 0.7812\n",
            "Epoch 54/200\n",
            "188/188 [==============================] - 2s 9ms/step - loss: 0.6827 - accuracy: 0.7442 - val_loss: 0.6192 - val_accuracy: 0.7871\n",
            "Epoch 55/200\n",
            "188/188 [==============================] - 2s 9ms/step - loss: 0.6634 - accuracy: 0.7608 - val_loss: 0.6109 - val_accuracy: 0.7878\n",
            "Epoch 56/200\n",
            "188/188 [==============================] - 2s 9ms/step - loss: 0.6199 - accuracy: 0.7745 - val_loss: 0.6072 - val_accuracy: 0.7891\n",
            "Epoch 57/200\n",
            "188/188 [==============================] - 2s 8ms/step - loss: 0.6061 - accuracy: 0.7792 - val_loss: 0.6033 - val_accuracy: 0.7817\n",
            "Epoch 58/200\n",
            "188/188 [==============================] - 2s 9ms/step - loss: 0.6074 - accuracy: 0.7781 - val_loss: 0.6133 - val_accuracy: 0.7743\n",
            "Epoch 59/200\n",
            "188/188 [==============================] - 2s 8ms/step - loss: 0.5688 - accuracy: 0.7955 - val_loss: 0.7349 - val_accuracy: 0.7432\n",
            "Epoch 60/200\n",
            "188/188 [==============================] - 2s 9ms/step - loss: 0.5710 - accuracy: 0.7939 - val_loss: 0.5510 - val_accuracy: 0.8088\n",
            "Epoch 61/200\n",
            "188/188 [==============================] - 2s 8ms/step - loss: 0.5565 - accuracy: 0.8026 - val_loss: 0.6069 - val_accuracy: 0.7772\n",
            "Epoch 62/200\n",
            "188/188 [==============================] - 2s 9ms/step - loss: 0.5462 - accuracy: 0.8068 - val_loss: 0.5488 - val_accuracy: 0.8043\n",
            "Epoch 63/200\n",
            "188/188 [==============================] - 2s 8ms/step - loss: 0.5277 - accuracy: 0.8121 - val_loss: 0.5332 - val_accuracy: 0.8172\n",
            "Epoch 64/200\n",
            "188/188 [==============================] - 2s 8ms/step - loss: 0.5308 - accuracy: 0.8128 - val_loss: 0.5091 - val_accuracy: 0.8271\n",
            "Epoch 65/200\n",
            "188/188 [==============================] - 2s 9ms/step - loss: 0.5003 - accuracy: 0.8245 - val_loss: 0.5510 - val_accuracy: 0.7917\n",
            "Epoch 66/200\n",
            "188/188 [==============================] - 2s 9ms/step - loss: 0.4994 - accuracy: 0.8245 - val_loss: 0.5524 - val_accuracy: 0.8099\n",
            "Epoch 67/200\n",
            "188/188 [==============================] - 2s 8ms/step - loss: 0.4958 - accuracy: 0.8260 - val_loss: 0.5465 - val_accuracy: 0.8028\n",
            "Epoch 68/200\n",
            "188/188 [==============================] - 2s 9ms/step - loss: 0.4843 - accuracy: 0.8310 - val_loss: 0.5287 - val_accuracy: 0.8268\n",
            "Epoch 69/200\n",
            "188/188 [==============================] - 2s 8ms/step - loss: 0.4996 - accuracy: 0.8263 - val_loss: 0.6928 - val_accuracy: 0.7448\n",
            "Epoch 70/200\n",
            "188/188 [==============================] - 2s 9ms/step - loss: 0.4576 - accuracy: 0.8423 - val_loss: 0.6005 - val_accuracy: 0.7835\n",
            "Epoch 71/200\n",
            "188/188 [==============================] - 2s 9ms/step - loss: 0.4667 - accuracy: 0.8383 - val_loss: 0.5110 - val_accuracy: 0.8257\n",
            "Epoch 72/200\n",
            "188/188 [==============================] - 2s 9ms/step - loss: 0.4485 - accuracy: 0.8463 - val_loss: 0.5101 - val_accuracy: 0.8278\n",
            "Epoch 73/200\n",
            "188/188 [==============================] - 2s 9ms/step - loss: 0.4707 - accuracy: 0.8366 - val_loss: 0.5343 - val_accuracy: 0.8184\n",
            "Epoch 74/200\n",
            "188/188 [==============================] - 2s 9ms/step - loss: 0.4335 - accuracy: 0.8500 - val_loss: 0.4784 - val_accuracy: 0.8390\n",
            "Epoch 75/200\n",
            "188/188 [==============================] - 2s 9ms/step - loss: 0.4569 - accuracy: 0.8423 - val_loss: 0.4759 - val_accuracy: 0.8444\n",
            "Epoch 76/200\n",
            "188/188 [==============================] - 2s 9ms/step - loss: 0.4148 - accuracy: 0.8580 - val_loss: 0.4976 - val_accuracy: 0.8206\n",
            "Epoch 77/200\n",
            "188/188 [==============================] - 2s 8ms/step - loss: 0.4151 - accuracy: 0.8564 - val_loss: 0.4766 - val_accuracy: 0.8401\n",
            "Epoch 78/200\n",
            "188/188 [==============================] - 2s 9ms/step - loss: 0.4093 - accuracy: 0.8584 - val_loss: 0.6146 - val_accuracy: 0.7853\n",
            "Epoch 79/200\n",
            "188/188 [==============================] - 2s 9ms/step - loss: 0.4293 - accuracy: 0.8501 - val_loss: 0.4492 - val_accuracy: 0.8499\n",
            "Epoch 80/200\n",
            "188/188 [==============================] - 2s 8ms/step - loss: 0.4683 - accuracy: 0.8424 - val_loss: 0.4501 - val_accuracy: 0.8515\n",
            "Epoch 81/200\n",
            "188/188 [==============================] - 2s 9ms/step - loss: 0.4039 - accuracy: 0.8610 - val_loss: 0.4409 - val_accuracy: 0.8557\n",
            "Epoch 82/200\n",
            "188/188 [==============================] - 2s 9ms/step - loss: 0.3846 - accuracy: 0.8679 - val_loss: 0.4428 - val_accuracy: 0.8557\n",
            "Epoch 83/200\n",
            "188/188 [==============================] - 2s 9ms/step - loss: 0.3776 - accuracy: 0.8698 - val_loss: 0.4343 - val_accuracy: 0.8572\n",
            "Epoch 84/200\n",
            "188/188 [==============================] - 2s 9ms/step - loss: 0.4373 - accuracy: 0.8531 - val_loss: 0.5368 - val_accuracy: 0.8296\n",
            "Epoch 85/200\n",
            "188/188 [==============================] - 2s 9ms/step - loss: 0.3749 - accuracy: 0.8727 - val_loss: 0.4303 - val_accuracy: 0.8597\n",
            "Epoch 86/200\n",
            "188/188 [==============================] - 2s 9ms/step - loss: 0.3666 - accuracy: 0.8738 - val_loss: 0.4419 - val_accuracy: 0.8543\n",
            "Epoch 87/200\n",
            "188/188 [==============================] - 2s 9ms/step - loss: 0.3621 - accuracy: 0.8764 - val_loss: 0.4748 - val_accuracy: 0.8400\n",
            "Epoch 88/200\n",
            "188/188 [==============================] - 2s 9ms/step - loss: 0.3499 - accuracy: 0.8812 - val_loss: 0.4392 - val_accuracy: 0.8543\n",
            "Epoch 89/200\n",
            "188/188 [==============================] - 2s 9ms/step - loss: 0.3504 - accuracy: 0.8802 - val_loss: 0.4479 - val_accuracy: 0.8509\n",
            "Epoch 90/200\n",
            "188/188 [==============================] - 2s 9ms/step - loss: 0.3391 - accuracy: 0.8836 - val_loss: 0.4480 - val_accuracy: 0.8560\n",
            "Epoch 91/200\n",
            "188/188 [==============================] - 2s 8ms/step - loss: 0.3434 - accuracy: 0.8813 - val_loss: 0.4186 - val_accuracy: 0.8633\n",
            "Epoch 92/200\n",
            "188/188 [==============================] - 2s 9ms/step - loss: 0.3268 - accuracy: 0.8863 - val_loss: 0.4153 - val_accuracy: 0.8673\n",
            "Epoch 93/200\n",
            "188/188 [==============================] - 2s 9ms/step - loss: 0.3321 - accuracy: 0.8848 - val_loss: 0.4518 - val_accuracy: 0.8522\n",
            "Epoch 94/200\n",
            "188/188 [==============================] - 2s 9ms/step - loss: 0.3228 - accuracy: 0.8881 - val_loss: 0.5668 - val_accuracy: 0.8223\n",
            "Epoch 95/200\n",
            "188/188 [==============================] - 2s 9ms/step - loss: 0.3298 - accuracy: 0.8857 - val_loss: 0.4501 - val_accuracy: 0.8581\n",
            "Epoch 96/200\n",
            "188/188 [==============================] - 2s 9ms/step - loss: 0.3123 - accuracy: 0.8912 - val_loss: 0.4410 - val_accuracy: 0.8569\n",
            "Epoch 97/200\n",
            "188/188 [==============================] - 2s 9ms/step - loss: 0.3080 - accuracy: 0.8931 - val_loss: 0.4281 - val_accuracy: 0.8644\n",
            "Epoch 98/200\n",
            "188/188 [==============================] - 2s 9ms/step - loss: 0.3090 - accuracy: 0.8926 - val_loss: 0.5510 - val_accuracy: 0.8341\n",
            "Epoch 99/200\n",
            "188/188 [==============================] - 2s 9ms/step - loss: 0.2947 - accuracy: 0.8970 - val_loss: 0.4186 - val_accuracy: 0.8666\n",
            "Epoch 100/200\n",
            "188/188 [==============================] - 2s 9ms/step - loss: 0.2850 - accuracy: 0.9018 - val_loss: 0.4178 - val_accuracy: 0.8701\n",
            "Epoch 101/200\n",
            "188/188 [==============================] - 2s 9ms/step - loss: 0.7034 - accuracy: 0.7555 - val_loss: 0.4346 - val_accuracy: 0.8611\n",
            "Epoch 102/200\n",
            "188/188 [==============================] - 2s 8ms/step - loss: 0.3062 - accuracy: 0.8954 - val_loss: 0.4298 - val_accuracy: 0.8568\n",
            "Epoch 103/200\n",
            "188/188 [==============================] - 2s 9ms/step - loss: 0.2814 - accuracy: 0.9023 - val_loss: 0.4022 - val_accuracy: 0.8733\n",
            "Epoch 104/200\n",
            "188/188 [==============================] - 2s 9ms/step - loss: 0.2733 - accuracy: 0.9044 - val_loss: 0.4684 - val_accuracy: 0.8491\n",
            "Epoch 105/200\n",
            "188/188 [==============================] - 2s 9ms/step - loss: 0.2896 - accuracy: 0.8993 - val_loss: 0.4272 - val_accuracy: 0.8700\n",
            "Epoch 106/200\n",
            "188/188 [==============================] - 2s 9ms/step - loss: 0.2657 - accuracy: 0.9063 - val_loss: 0.4112 - val_accuracy: 0.8752\n",
            "Epoch 107/200\n",
            "188/188 [==============================] - 2s 9ms/step - loss: 0.2627 - accuracy: 0.9084 - val_loss: 0.4611 - val_accuracy: 0.8633\n",
            "Epoch 108/200\n",
            "188/188 [==============================] - 2s 9ms/step - loss: 0.2582 - accuracy: 0.9099 - val_loss: 0.4381 - val_accuracy: 0.8644\n",
            "Epoch 109/200\n",
            "188/188 [==============================] - 2s 9ms/step - loss: 0.3182 - accuracy: 0.8953 - val_loss: 0.4482 - val_accuracy: 0.8565\n",
            "Epoch 110/200\n",
            "188/188 [==============================] - 2s 9ms/step - loss: 0.2669 - accuracy: 0.9071 - val_loss: 0.4203 - val_accuracy: 0.8724\n",
            "Epoch 111/200\n",
            "188/188 [==============================] - 2s 9ms/step - loss: 0.2453 - accuracy: 0.9136 - val_loss: 0.4416 - val_accuracy: 0.8599\n",
            "Epoch 112/200\n",
            "188/188 [==============================] - 2s 9ms/step - loss: 0.2376 - accuracy: 0.9161 - val_loss: 0.4797 - val_accuracy: 0.8627\n",
            "Epoch 113/200\n",
            "188/188 [==============================] - 2s 9ms/step - loss: 0.2464 - accuracy: 0.9130 - val_loss: 0.4259 - val_accuracy: 0.8715\n",
            "Epoch 114/200\n",
            "188/188 [==============================] - 2s 9ms/step - loss: 0.2455 - accuracy: 0.9127 - val_loss: 0.5322 - val_accuracy: 0.8367\n",
            "Epoch 115/200\n",
            "188/188 [==============================] - 2s 9ms/step - loss: 0.2348 - accuracy: 0.9179 - val_loss: 0.5003 - val_accuracy: 0.8522\n",
            "Epoch 116/200\n",
            "188/188 [==============================] - 2s 9ms/step - loss: 0.3448 - accuracy: 0.8890 - val_loss: 0.3966 - val_accuracy: 0.8766\n",
            "Epoch 117/200\n",
            "188/188 [==============================] - 2s 9ms/step - loss: 0.2170 - accuracy: 0.9245 - val_loss: 0.4086 - val_accuracy: 0.8723\n",
            "Epoch 118/200\n",
            "188/188 [==============================] - 2s 9ms/step - loss: 0.3144 - accuracy: 0.8985 - val_loss: 0.4068 - val_accuracy: 0.8728\n",
            "Epoch 119/200\n",
            "188/188 [==============================] - 2s 9ms/step - loss: 0.2108 - accuracy: 0.9254 - val_loss: 0.4231 - val_accuracy: 0.8658\n",
            "Epoch 120/200\n",
            "188/188 [==============================] - 2s 9ms/step - loss: 0.2101 - accuracy: 0.9260 - val_loss: 0.4491 - val_accuracy: 0.8649\n",
            "Epoch 121/200\n",
            "188/188 [==============================] - 2s 9ms/step - loss: 0.2095 - accuracy: 0.9265 - val_loss: 0.4754 - val_accuracy: 0.8586\n",
            "Epoch 122/200\n",
            "188/188 [==============================] - 2s 9ms/step - loss: 0.5750 - accuracy: 0.8021 - val_loss: 0.7628 - val_accuracy: 0.7045\n",
            "Epoch 123/200\n",
            "188/188 [==============================] - 2s 9ms/step - loss: 0.3336 - accuracy: 0.8819 - val_loss: 0.4085 - val_accuracy: 0.8746\n",
            "Epoch 124/200\n",
            "188/188 [==============================] - 2s 9ms/step - loss: 0.2103 - accuracy: 0.9264 - val_loss: 0.4250 - val_accuracy: 0.8735\n",
            "Epoch 125/200\n",
            "188/188 [==============================] - 2s 9ms/step - loss: 0.1972 - accuracy: 0.9311 - val_loss: 0.4061 - val_accuracy: 0.8736\n",
            "Epoch 126/200\n",
            "188/188 [==============================] - 2s 9ms/step - loss: 0.1979 - accuracy: 0.9311 - val_loss: 0.4310 - val_accuracy: 0.8748\n",
            "Epoch 127/200\n",
            "188/188 [==============================] - 2s 9ms/step - loss: 0.1915 - accuracy: 0.9328 - val_loss: 0.4548 - val_accuracy: 0.8737\n",
            "Epoch 128/200\n",
            "188/188 [==============================] - 2s 9ms/step - loss: 0.1939 - accuracy: 0.9322 - val_loss: 0.4080 - val_accuracy: 0.8822\n",
            "Epoch 129/200\n",
            "188/188 [==============================] - 2s 9ms/step - loss: 0.1809 - accuracy: 0.9364 - val_loss: 0.4145 - val_accuracy: 0.8830\n",
            "Epoch 130/200\n",
            "188/188 [==============================] - 2s 9ms/step - loss: 0.3372 - accuracy: 0.8874 - val_loss: 0.8058 - val_accuracy: 0.6612\n",
            "Epoch 131/200\n",
            "188/188 [==============================] - 2s 9ms/step - loss: 0.3365 - accuracy: 0.8766 - val_loss: 0.3992 - val_accuracy: 0.8786\n",
            "Epoch 132/200\n",
            "188/188 [==============================] - 2s 9ms/step - loss: 0.1773 - accuracy: 0.9392 - val_loss: 0.4668 - val_accuracy: 0.8735\n",
            "Epoch 133/200\n",
            "188/188 [==============================] - 2s 9ms/step - loss: 0.1786 - accuracy: 0.9363 - val_loss: 0.4124 - val_accuracy: 0.8766\n",
            "Epoch 134/200\n",
            "188/188 [==============================] - 2s 9ms/step - loss: 0.1687 - accuracy: 0.9415 - val_loss: 0.4466 - val_accuracy: 0.8808\n",
            "Epoch 135/200\n",
            "188/188 [==============================] - 2s 9ms/step - loss: 0.1894 - accuracy: 0.9347 - val_loss: 0.4821 - val_accuracy: 0.8431\n",
            "Epoch 136/200\n",
            "188/188 [==============================] - 2s 9ms/step - loss: 0.1562 - accuracy: 0.9465 - val_loss: 0.4636 - val_accuracy: 0.8686\n",
            "Epoch 137/200\n",
            "188/188 [==============================] - 2s 9ms/step - loss: 0.3495 - accuracy: 0.8871 - val_loss: 0.4193 - val_accuracy: 0.8797\n",
            "Epoch 138/200\n",
            "188/188 [==============================] - 2s 9ms/step - loss: 0.1608 - accuracy: 0.9444 - val_loss: 0.4085 - val_accuracy: 0.8823\n",
            "Epoch 139/200\n",
            "188/188 [==============================] - 2s 9ms/step - loss: 0.1606 - accuracy: 0.9442 - val_loss: 0.4807 - val_accuracy: 0.8758\n",
            "Epoch 140/200\n",
            "188/188 [==============================] - 2s 9ms/step - loss: 0.1526 - accuracy: 0.9473 - val_loss: 0.6481 - val_accuracy: 0.8482\n",
            "Epoch 141/200\n",
            "188/188 [==============================] - 2s 9ms/step - loss: 0.1632 - accuracy: 0.9418 - val_loss: 0.4139 - val_accuracy: 0.8799\n",
            "Epoch 142/200\n",
            "188/188 [==============================] - 2s 9ms/step - loss: 0.2506 - accuracy: 0.9232 - val_loss: 0.4717 - val_accuracy: 0.8669\n",
            "Epoch 143/200\n",
            "188/188 [==============================] - 2s 9ms/step - loss: 0.1426 - accuracy: 0.9502 - val_loss: 0.5066 - val_accuracy: 0.8434\n",
            "Epoch 144/200\n",
            "188/188 [==============================] - 2s 9ms/step - loss: 0.1627 - accuracy: 0.9463 - val_loss: 0.4287 - val_accuracy: 0.8807\n",
            "Epoch 145/200\n",
            "188/188 [==============================] - 2s 9ms/step - loss: 0.1496 - accuracy: 0.9497 - val_loss: 0.4523 - val_accuracy: 0.8827\n",
            "Epoch 146/200\n",
            "188/188 [==============================] - 2s 9ms/step - loss: 0.1240 - accuracy: 0.9586 - val_loss: 0.4438 - val_accuracy: 0.8768\n",
            "Epoch 147/200\n",
            "188/188 [==============================] - 2s 9ms/step - loss: 0.1397 - accuracy: 0.9524 - val_loss: 0.4356 - val_accuracy: 0.8823\n",
            "Epoch 148/200\n",
            "188/188 [==============================] - 2s 9ms/step - loss: 0.1353 - accuracy: 0.9535 - val_loss: 0.4646 - val_accuracy: 0.8780\n",
            "Epoch 149/200\n",
            "188/188 [==============================] - 2s 9ms/step - loss: 0.2261 - accuracy: 0.9305 - val_loss: 0.4451 - val_accuracy: 0.8823\n",
            "Epoch 150/200\n",
            "188/188 [==============================] - 2s 9ms/step - loss: 0.1227 - accuracy: 0.9579 - val_loss: 0.5431 - val_accuracy: 0.8640\n",
            "Epoch 151/200\n",
            "188/188 [==============================] - 2s 9ms/step - loss: 0.1209 - accuracy: 0.9596 - val_loss: 0.5296 - val_accuracy: 0.8732\n",
            "Epoch 152/200\n",
            "188/188 [==============================] - 2s 10ms/step - loss: 0.1354 - accuracy: 0.9537 - val_loss: 0.4485 - val_accuracy: 0.8840\n",
            "Epoch 153/200\n",
            "188/188 [==============================] - 2s 9ms/step - loss: 0.2386 - accuracy: 0.9254 - val_loss: 0.6274 - val_accuracy: 0.7775\n",
            "Epoch 154/200\n",
            "188/188 [==============================] - 2s 9ms/step - loss: 0.1468 - accuracy: 0.9505 - val_loss: 0.5376 - val_accuracy: 0.8674\n",
            "Epoch 155/200\n",
            "188/188 [==============================] - 2s 9ms/step - loss: 0.1167 - accuracy: 0.9619 - val_loss: 0.6456 - val_accuracy: 0.8568\n",
            "Epoch 156/200\n",
            "188/188 [==============================] - 2s 9ms/step - loss: 0.1154 - accuracy: 0.9622 - val_loss: 0.4868 - val_accuracy: 0.8833\n",
            "Epoch 157/200\n",
            "188/188 [==============================] - 2s 9ms/step - loss: 0.2958 - accuracy: 0.9081 - val_loss: 0.5306 - val_accuracy: 0.8276\n",
            "Epoch 158/200\n",
            "188/188 [==============================] - 2s 9ms/step - loss: 0.1624 - accuracy: 0.9444 - val_loss: 0.4340 - val_accuracy: 0.8846\n",
            "Epoch 159/200\n",
            "188/188 [==============================] - 2s 9ms/step - loss: 0.1104 - accuracy: 0.9642 - val_loss: 0.4831 - val_accuracy: 0.8720\n",
            "Epoch 160/200\n",
            "188/188 [==============================] - 2s 9ms/step - loss: 0.0996 - accuracy: 0.9673 - val_loss: 0.5865 - val_accuracy: 0.8334\n",
            "Epoch 161/200\n",
            "188/188 [==============================] - 2s 9ms/step - loss: 0.2170 - accuracy: 0.9374 - val_loss: 0.4513 - val_accuracy: 0.8855\n",
            "Epoch 162/200\n",
            "188/188 [==============================] - 2s 9ms/step - loss: 0.0925 - accuracy: 0.9703 - val_loss: 0.5115 - val_accuracy: 0.8778\n",
            "Epoch 163/200\n",
            "188/188 [==============================] - 2s 9ms/step - loss: 0.0941 - accuracy: 0.9699 - val_loss: 0.4933 - val_accuracy: 0.8742\n",
            "Epoch 164/200\n",
            "188/188 [==============================] - 2s 9ms/step - loss: 0.0896 - accuracy: 0.9711 - val_loss: 0.5713 - val_accuracy: 0.8705\n",
            "Epoch 165/200\n",
            "188/188 [==============================] - 2s 9ms/step - loss: 0.1829 - accuracy: 0.9460 - val_loss: 0.4740 - val_accuracy: 0.8820\n",
            "Epoch 166/200\n",
            "188/188 [==============================] - 2s 9ms/step - loss: 0.0830 - accuracy: 0.9739 - val_loss: 0.5065 - val_accuracy: 0.8818\n",
            "Epoch 167/200\n",
            "188/188 [==============================] - 2s 9ms/step - loss: 0.1511 - accuracy: 0.9555 - val_loss: 0.4561 - val_accuracy: 0.8828\n",
            "Epoch 168/200\n",
            "188/188 [==============================] - 2s 9ms/step - loss: 0.0912 - accuracy: 0.9712 - val_loss: 0.6725 - val_accuracy: 0.8210\n",
            "Epoch 169/200\n",
            "188/188 [==============================] - 2s 9ms/step - loss: 0.0852 - accuracy: 0.9724 - val_loss: 0.5099 - val_accuracy: 0.8829\n",
            "Epoch 170/200\n",
            "188/188 [==============================] - 2s 9ms/step - loss: 0.0890 - accuracy: 0.9715 - val_loss: 0.4902 - val_accuracy: 0.8848\n",
            "Epoch 171/200\n",
            "188/188 [==============================] - 2s 9ms/step - loss: 0.1465 - accuracy: 0.9592 - val_loss: 0.4820 - val_accuracy: 0.8853\n",
            "Epoch 172/200\n",
            "188/188 [==============================] - 2s 9ms/step - loss: 0.0692 - accuracy: 0.9790 - val_loss: 0.5440 - val_accuracy: 0.8812\n",
            "Epoch 173/200\n",
            "188/188 [==============================] - 2s 9ms/step - loss: 0.0921 - accuracy: 0.9723 - val_loss: 0.5089 - val_accuracy: 0.8858\n",
            "Epoch 174/200\n",
            "188/188 [==============================] - 2s 9ms/step - loss: 0.1576 - accuracy: 0.9563 - val_loss: 0.5993 - val_accuracy: 0.8605\n",
            "Epoch 175/200\n",
            "188/188 [==============================] - 2s 9ms/step - loss: 0.0840 - accuracy: 0.9738 - val_loss: 0.7093 - val_accuracy: 0.8578\n",
            "Epoch 176/200\n",
            "188/188 [==============================] - 2s 9ms/step - loss: 0.0674 - accuracy: 0.9793 - val_loss: 0.5035 - val_accuracy: 0.8827\n",
            "Epoch 177/200\n",
            "188/188 [==============================] - 2s 9ms/step - loss: 0.1049 - accuracy: 0.9683 - val_loss: 0.5041 - val_accuracy: 0.8852\n",
            "Epoch 178/200\n",
            "188/188 [==============================] - 2s 9ms/step - loss: 0.0578 - accuracy: 0.9829 - val_loss: 0.5520 - val_accuracy: 0.8792\n",
            "Epoch 179/200\n",
            "188/188 [==============================] - 2s 9ms/step - loss: 0.1941 - accuracy: 0.9441 - val_loss: 0.5236 - val_accuracy: 0.8627\n",
            "Epoch 180/200\n",
            "188/188 [==============================] - 2s 9ms/step - loss: 0.0814 - accuracy: 0.9737 - val_loss: 0.5303 - val_accuracy: 0.8860\n",
            "Epoch 181/200\n",
            "188/188 [==============================] - 2s 9ms/step - loss: 0.0516 - accuracy: 0.9850 - val_loss: 0.5408 - val_accuracy: 0.8850\n",
            "Epoch 182/200\n",
            "188/188 [==============================] - 2s 9ms/step - loss: 0.0496 - accuracy: 0.9852 - val_loss: 0.5500 - val_accuracy: 0.8859\n",
            "Epoch 183/200\n",
            "188/188 [==============================] - 2s 9ms/step - loss: 0.0430 - accuracy: 0.9876 - val_loss: 0.5867 - val_accuracy: 0.8840\n",
            "Epoch 184/200\n",
            "188/188 [==============================] - 2s 9ms/step - loss: 0.0987 - accuracy: 0.9707 - val_loss: 0.5191 - val_accuracy: 0.8831\n",
            "Epoch 185/200\n",
            "188/188 [==============================] - 2s 9ms/step - loss: 0.2504 - accuracy: 0.9318 - val_loss: 0.5060 - val_accuracy: 0.8808\n",
            "Epoch 186/200\n",
            "188/188 [==============================] - 2s 10ms/step - loss: 0.0507 - accuracy: 0.9853 - val_loss: 0.5321 - val_accuracy: 0.8835\n",
            "Epoch 187/200\n",
            "188/188 [==============================] - 2s 9ms/step - loss: 0.0620 - accuracy: 0.9819 - val_loss: 0.5291 - val_accuracy: 0.8813\n",
            "Epoch 188/200\n",
            "188/188 [==============================] - 2s 9ms/step - loss: 0.0439 - accuracy: 0.9870 - val_loss: 0.6633 - val_accuracy: 0.8793\n",
            "Epoch 189/200\n",
            "188/188 [==============================] - 2s 9ms/step - loss: 0.1583 - accuracy: 0.9556 - val_loss: 0.9538 - val_accuracy: 0.8323\n",
            "Epoch 190/200\n",
            "188/188 [==============================] - 2s 9ms/step - loss: 0.0755 - accuracy: 0.9759 - val_loss: 0.5274 - val_accuracy: 0.8857\n",
            "Epoch 191/200\n",
            "188/188 [==============================] - 2s 9ms/step - loss: 0.0397 - accuracy: 0.9886 - val_loss: 0.6599 - val_accuracy: 0.8669\n",
            "Epoch 192/200\n",
            "188/188 [==============================] - 2s 10ms/step - loss: 0.0973 - accuracy: 0.9725 - val_loss: 0.5874 - val_accuracy: 0.8802\n",
            "Epoch 193/200\n",
            "188/188 [==============================] - 2s 9ms/step - loss: 0.0386 - accuracy: 0.9894 - val_loss: 0.5752 - val_accuracy: 0.8832\n",
            "Epoch 194/200\n",
            "188/188 [==============================] - 2s 9ms/step - loss: 0.0308 - accuracy: 0.9919 - val_loss: 0.6839 - val_accuracy: 0.8742\n",
            "Epoch 195/200\n",
            "188/188 [==============================] - 2s 9ms/step - loss: 0.1488 - accuracy: 0.9609 - val_loss: 0.4761 - val_accuracy: 0.8741\n",
            "Epoch 196/200\n",
            "188/188 [==============================] - 2s 9ms/step - loss: 0.0692 - accuracy: 0.9780 - val_loss: 0.5707 - val_accuracy: 0.8846\n",
            "Epoch 197/200\n",
            "188/188 [==============================] - 2s 9ms/step - loss: 0.0306 - accuracy: 0.9921 - val_loss: 0.5885 - val_accuracy: 0.8834\n",
            "Epoch 198/200\n",
            "188/188 [==============================] - 2s 9ms/step - loss: 0.0320 - accuracy: 0.9910 - val_loss: 0.6067 - val_accuracy: 0.8830\n",
            "Epoch 199/200\n",
            "188/188 [==============================] - 2s 9ms/step - loss: 0.0264 - accuracy: 0.9933 - val_loss: 0.6179 - val_accuracy: 0.8839\n",
            "Epoch 200/200\n",
            "188/188 [==============================] - 2s 9ms/step - loss: 0.1075 - accuracy: 0.9687 - val_loss: 0.5739 - val_accuracy: 0.8830\n"
          ]
        }
      ],
      "source": [
        "hst = train_models(model_list, x_train_ready, y_train_cat, x_val, y_val, epochs=200)"
      ]
    },
    {
      "cell_type": "code",
      "source": [
        "filtered_hst = []\n",
        "for h in hst:\n",
        "  best = get_best_epoch(h.history)\n",
        "  if best['val_accuracy'] > 0.88:\n",
        "    filtered_hst.append(h)\n",
        "print(len(filtered_hst))"
      ],
      "metadata": {
        "colab": {
          "base_uri": "https://localhost:8080/"
        },
        "id": "--54929snYSE",
        "outputId": "b0309a20-f0df-4001-f9b9-ad01f340f55b"
      },
      "execution_count": null,
      "outputs": [
        {
          "output_type": "stream",
          "name": "stdout",
          "text": [
            "26\n"
          ]
        }
      ]
    },
    {
      "cell_type": "code",
      "source": [
        "np.save('roba_strana.npy',hst)"
      ],
      "metadata": {
        "colab": {
          "base_uri": "https://localhost:8080/"
        },
        "id": "f5QVmP40-qMg",
        "outputId": "98fdfaf9-a900-4e1a-ead8-808f59d8cc71"
      },
      "execution_count": null,
      "outputs": [
        {
          "output_type": "stream",
          "name": "stdout",
          "text": [
            "INFO:tensorflow:Assets written to: ram://8c05f469-9078-4eac-9da9-4496aac4b857/assets\n"
          ]
        }
      ]
    },
    {
      "cell_type": "code",
      "source": [
        "history=np.load('.npy',allow_pickle='TRUE')\n",
        "len(history)"
      ],
      "metadata": {
        "id": "3PJejVF5-qtg",
        "colab": {
          "base_uri": "https://localhost:8080/"
        },
        "outputId": "b4b9961b-a7dc-4d73-9a58-aa73c910cc49"
      },
      "execution_count": null,
      "outputs": [
        {
          "output_type": "execute_result",
          "data": {
            "text/plain": [
              "39"
            ]
          },
          "metadata": {},
          "execution_count": 29
        }
      ]
    },
    {
      "cell_type": "code",
      "source": [
        "print_hist(hst)"
      ],
      "metadata": {
        "colab": {
          "base_uri": "https://localhost:8080/",
          "height": 662
        },
        "id": "dM0QEowLLkwU",
        "outputId": "672677da-75e3-4d74-fad6-f5c3aa9d47bf"
      },
      "execution_count": null,
      "outputs": [
        {
          "output_type": "stream",
          "name": "stdout",
          "text": [
            "============================================================================\n",
            "UNITS:  [784, 512, 256, 128, 64, 32, 30, 20, 10]\n",
            "INIT:  random_normal - OPT: SGD(lr=0.010) - DROP: False - BATCH_NORM: False\n",
            "LAST VAL_ACC:  0.8687499761581421\n",
            "LAST VAL_LOSS:  0.41879019141197205\n",
            "BEST:  {'accuracy': 0.9013749957084656, 'loss': 0.28580376505851746, 'val_accuracy': 0.8687499761581421, 'val_loss': 0.41879019141197205, 'ind': 99}\n"
          ]
        },
        {
          "output_type": "display_data",
          "data": {
            "image/png": "[encoded data removed]",
            "text/plain": [
              "<Figure size 432x288 with 1 Axes>"
            ]
          },
          "metadata": {
            "needs_background": "light"
          }
        },
        {
          "output_type": "display_data",
          "data": {
            "image/png": "[encoded data removed]",
            "text/plain": [
              "<Figure size 432x288 with 1 Axes>"
            ]
          },
          "metadata": {
            "needs_background": "light"
          }
        },
        {
          "output_type": "stream",
          "name": "stdout",
          "text": [
            "============================================================================\n"
          ]
        }
      ]
    },
    {
      "cell_type": "code",
      "source": [
        "def preprocessing(x):\n",
        "    x = x.flatten()\n",
        "    return x"
      ],
      "metadata": {
        "id": "4v1L4VlSYUHo"
      },
      "execution_count": null,
      "outputs": []
    },
    {
      "cell_type": "code",
      "source": [
        "(x_train_fold, y_train_fold), (x_test_fold, y_test_fold) = tf.keras.datasets.fashion_mnist.load_data()\n",
        "\n",
        "x_train_fold_ready = [preprocessing(x) for x in x_train_fold]\n",
        "x_test_fold_ready = [preprocessing(x) for x in x_test_fold]\n",
        "\n",
        "x_train_fold_ready = [x/255 for x in x_train_fold_ready]\n",
        "x_test_fold_ready = [x/255 for x in x_test_fold_ready]\n",
        "\n",
        "x_train_fold_ready = np.asarray(x_train_fold_ready)\n",
        "x_test_fold_ready = np.asarray(x_test_fold_ready)\n",
        "\n",
        "n_features = len(x_train_fold_ready[0])\n",
        "print(n_features)\n",
        "num_classes = 10"
      ],
      "metadata": {
        "colab": {
          "base_uri": "https://localhost:8080/"
        },
        "id": "obJXmVGwX-hn",
        "outputId": "b8d232f2-2174-4092-8df9-2be95381adb7"
      },
      "execution_count": null,
      "outputs": [
        {
          "output_type": "stream",
          "name": "stdout",
          "text": [
            "784\n"
          ]
        }
      ]
    },
    {
      "cell_type": "code",
      "source": [
        "set_train_full = ndarray_to_PILIM(x_train)\n",
        "\n",
        "set_test_full = ndarray_to_PILIM(x_test)\n",
        "\n",
        "factor = 1.5\n",
        "resize = 64\n",
        "\n",
        "set_train_contr = []\n",
        "set_val_contr = []\n",
        "set_test_contr = []\n",
        "\n",
        "for im in set_train_full:\n",
        "  #im = im.resize((resize, resize), resample=Image.LANCZOS)\n",
        "  enhancer = ImageEnhance.Contrast(im)\n",
        "  im = enhancer.enhance(factor)\n",
        "  set_train_contr.append(im) \n",
        "\n",
        "for im in set_test_full:\n",
        "  #im = im.resize((resize, resize), resample=Image.LANCZOS)\n",
        "  enhancer = ImageEnhance.Contrast(im)\n",
        "  im = enhancer.enhance(factor)\n",
        "  set_test_contr.append(im) \n",
        "\n",
        "x_train_ready = PILIM_to_ndarray(set_train_contr)\n",
        "\n",
        "x_test_ready = PILIM_to_ndarray(set_test_contr)\n",
        "\n",
        "x_train_ready = [preprocessing(x) for x in x_train_ready]\n",
        "\n",
        "x_test_ready = [preprocessing(x) for x in x_test_ready]\n",
        "\n",
        "x_train_ready = [x/255 for x in x_train_ready]\n",
        "\n",
        "x_test_ready = [x/255 for x in x_test_ready]\n",
        "\n",
        "x_train_ready = np.asarray(x_train_ready)\n",
        "\n",
        "x_test_ready = np.asarray(x_test_ready)\n",
        "\n",
        "n_features = len(x_train_ready[0])\n",
        "print(n_features)\n",
        "num_classes = 10\n",
        "\n",
        "#y_train_cat = to_categorical(y_train, num_classes)\n",
        "#y_val_cat = to_categorical(y_val, num_classes)\n",
        "#y_test_cat = to_categorical(y_test, num_classes)\n",
        "\n"
      ],
      "metadata": {
        "colab": {
          "base_uri": "https://localhost:8080/"
        },
        "id": "_lX89l7lgvNh",
        "outputId": "c7f20828-68d8-489b-ee42-12b7f8c1345e"
      },
      "execution_count": null,
      "outputs": [
        {
          "output_type": "stream",
          "name": "stdout",
          "text": [
            "784\n"
          ]
        }
      ]
    },
    {
      "cell_type": "code",
      "source": [
        "'''inputs = np.concatenate((x_train_fold_ready, x_test_fold_ready), axis=0)\n",
        "targets = np.concatenate((y_train_fold, y_test_fold), axis=0)'''\n",
        "\n",
        "inputs = x_train_ready\n",
        "targets = y_train\n",
        "\n",
        "acc_per_fold = []\n",
        "loss_per_fold = []\n",
        "\n",
        "NUM_FOLD = 10\n",
        "kfold = KFold(n_splits = NUM_FOLD, shuffle = True)"
      ],
      "metadata": {
        "id": "mrN_HcvPX_O5"
      },
      "execution_count": null,
      "outputs": []
    },
    {
      "cell_type": "code",
      "source": [
        "# K-fold Cross Validation model evaluation\n",
        "\n",
        "n_units = [30, 20]\n",
        "activation_fs = [\"relu\", \"relu\"]\n",
        "opt  = [Adam()]\n",
        "\n",
        "hst = []\n",
        "\n",
        "fold_no = 1\n",
        "for i in opt:\n",
        "  for train, test in kfold.split(inputs, targets):\n",
        "\n",
        "    model = MLP_definer_drop(n_units, activation_fs, i, 0.2, tf.keras.losses.SparseCategoricalCrossentropy())\n",
        "\n",
        "    history = model.fit(inputs[train], targets[train],\n",
        "                        batch_size = 256,\n",
        "                        epochs = 70, \n",
        "                        verbose = 0)\n",
        "\n",
        "\n",
        "    hst.append(history)\n",
        "    # Generate generalization metrics\n",
        "    scores = model.evaluate(inputs[test], targets[test], verbose=0)\n",
        "    print(f'Score for fold {fold_no}: {model.metrics_names[0]} of {scores[0]}; {model.metrics_names[1]} of {scores[1]*100}%')\n",
        "    acc_per_fold.append(scores[1] * 100)\n",
        "    loss_per_fold.append(scores[0])\n",
        "\n",
        "    # Increase fold number\n",
        "    fold_no = fold_no + 1\n",
        "\n",
        "  print(f'> Accuracy: {np.mean(acc_per_fold)} (+- {np.std(acc_per_fold)})')\n",
        "  print(f'> Loss: {np.mean(loss_per_fold)}')"
      ],
      "metadata": {
        "colab": {
          "base_uri": "https://localhost:8080/"
        },
        "id": "wQgruM9FYB_7",
        "outputId": "78cc3d5d-b7a8-403c-fc6d-10a3ce075073"
      },
      "execution_count": null,
      "outputs": [
        {
          "output_type": "stream",
          "name": "stdout",
          "text": [
            "Score for fold 1: loss of 0.3923262655735016; accuracy of 89.85000252723694%\n",
            "Score for fold 2: loss of 0.43553343415260315; accuracy of 89.30000066757202%\n",
            "Score for fold 3: loss of 0.413545161485672; accuracy of 89.83333110809326%\n",
            "Score for fold 4: loss of 0.4242866635322571; accuracy of 89.85000252723694%\n",
            "Score for fold 5: loss of 0.44610628485679626; accuracy of 88.88333439826965%\n",
            "Score for fold 6: loss of 0.4638098180294037; accuracy of 88.95000219345093%\n",
            "Score for fold 7: loss of 0.4022645652294159; accuracy of 89.81666564941406%\n",
            "Score for fold 8: loss of 0.4053109884262085; accuracy of 89.64999914169312%\n",
            "Score for fold 9: loss of 0.41773855686187744; accuracy of 90.36666750907898%\n",
            "Score for fold 10: loss of 0.4763689339160919; accuracy of 88.98333311080933%\n",
            "> Accuracy: 89.54833388328552 (+- 0.46865332915462093)\n",
            "> Loss: 0.42772906720638276\n"
          ]
        }
      ]
    },
    {
      "cell_type": "code",
      "source": [
        "print_hist(hst)"
      ],
      "metadata": {
        "colab": {
          "base_uri": "https://localhost:8080/",
          "height": 310
        },
        "id": "PjWEUPfTczcy",
        "outputId": "6763250a-6b73-4230-ba1e-ab7aacf1907a"
      },
      "execution_count": null,
      "outputs": [
        {
          "output_type": "error",
          "ename": "TypeError",
          "evalue": "ignored",
          "traceback": [
            "\u001b[0;31m---------------------------------------------------------------------------\u001b[0m",
            "\u001b[0;31mTypeError\u001b[0m                                 Traceback (most recent call last)",
            "\u001b[0;32m<ipython-input-30-83f4d4c13532>\u001b[0m in \u001b[0;36m<module>\u001b[0;34m()\u001b[0m\n\u001b[0;32m----> 1\u001b[0;31m \u001b[0mprint_hist\u001b[0m\u001b[0;34m(\u001b[0m\u001b[0mhst\u001b[0m\u001b[0;34m)\u001b[0m\u001b[0;34m\u001b[0m\u001b[0;34m\u001b[0m\u001b[0m\n\u001b[0m",
            "\u001b[0;32m<ipython-input-16-84ff4f438b43>\u001b[0m in \u001b[0;36mprint_hist\u001b[0;34m(hist_list)\u001b[0m\n\u001b[1;32m      7\u001b[0m \u001b[0;34m\u001b[0m\u001b[0m\n\u001b[1;32m      8\u001b[0m   \u001b[0;32mfor\u001b[0m \u001b[0mhst\u001b[0m \u001b[0;32min\u001b[0m \u001b[0mhist_list\u001b[0m\u001b[0;34m:\u001b[0m\u001b[0;34m\u001b[0m\u001b[0;34m\u001b[0m\u001b[0m\n\u001b[0;32m----> 9\u001b[0;31m     \u001b[0mbest\u001b[0m \u001b[0;34m=\u001b[0m \u001b[0mget_best_epoch\u001b[0m\u001b[0;34m(\u001b[0m\u001b[0mhst\u001b[0m\u001b[0;34m.\u001b[0m\u001b[0mhistory\u001b[0m\u001b[0;34m)\u001b[0m\u001b[0;34m\u001b[0m\u001b[0;34m\u001b[0m\u001b[0m\n\u001b[0m\u001b[1;32m     10\u001b[0m     \u001b[0mprint\u001b[0m\u001b[0;34m(\u001b[0m\u001b[0;34m\"============================================================================\"\u001b[0m\u001b[0;34m)\u001b[0m\u001b[0;34m\u001b[0m\u001b[0;34m\u001b[0m\u001b[0m\n\u001b[1;32m     11\u001b[0m \u001b[0;34m\u001b[0m\u001b[0m\n",
            "\u001b[0;32m<ipython-input-15-df3061de5369>\u001b[0m in \u001b[0;36mget_best_epoch\u001b[0;34m(diz, watch)\u001b[0m\n\u001b[1;32m      5\u001b[0m     \u001b[0;32mif\u001b[0m\u001b[0;34m(\u001b[0m\u001b[0mwatch\u001b[0m \u001b[0;34m==\u001b[0m \u001b[0;34m\"val_accuracy\"\u001b[0m\u001b[0;34m)\u001b[0m\u001b[0;34m:\u001b[0m\u001b[0;34m\u001b[0m\u001b[0;34m\u001b[0m\u001b[0m\n\u001b[1;32m      6\u001b[0m       \u001b[0mls\u001b[0m \u001b[0;34m=\u001b[0m \u001b[0mdiz\u001b[0m\u001b[0;34m.\u001b[0m\u001b[0mget\u001b[0m\u001b[0;34m(\u001b[0m\u001b[0;34m\"val_accuracy\"\u001b[0m\u001b[0;34m)\u001b[0m\u001b[0;34m\u001b[0m\u001b[0;34m\u001b[0m\u001b[0m\n\u001b[0;32m----> 7\u001b[0;31m       \u001b[0macc_val_max\u001b[0m \u001b[0;34m=\u001b[0m \u001b[0mmax\u001b[0m\u001b[0;34m(\u001b[0m\u001b[0mls\u001b[0m\u001b[0;34m)\u001b[0m\u001b[0;34m\u001b[0m\u001b[0;34m\u001b[0m\u001b[0m\n\u001b[0m\u001b[1;32m      8\u001b[0m       \u001b[0mind\u001b[0m \u001b[0;34m=\u001b[0m \u001b[0mls\u001b[0m\u001b[0;34m.\u001b[0m\u001b[0mindex\u001b[0m\u001b[0;34m(\u001b[0m\u001b[0macc_val_max\u001b[0m\u001b[0;34m)\u001b[0m\u001b[0;34m\u001b[0m\u001b[0;34m\u001b[0m\u001b[0m\n\u001b[1;32m      9\u001b[0m \u001b[0;34m\u001b[0m\u001b[0m\n",
            "\u001b[0;31mTypeError\u001b[0m: 'NoneType' object is not iterable"
          ]
        }
      ]
    },
    {
      "cell_type": "code",
      "source": [
        "acc=0\n",
        "loss=0\n",
        "\n",
        "for hist in hst:\n",
        "  result = hist.model.evaluate(x_test_fold_ready, y_test, batch_size=256)\n",
        "  acc = acc + result[1]\n",
        "  loss = loss + result[0]\n",
        "\n",
        "print(acc/10)\n",
        "print(loss/10)"
      ],
      "metadata": {
        "colab": {
          "base_uri": "https://localhost:8080/"
        },
        "id": "fuhkgMZjoFHo",
        "outputId": "ff97d9be-ba03-4130-c24b-0465f887a8b5"
      },
      "execution_count": null,
      "outputs": [
        {
          "output_type": "stream",
          "name": "stdout",
          "text": [
            "40/40 [==============================] - 0s 4ms/step - loss: 0.3997 - accuracy: 0.8910\n",
            "40/40 [==============================] - 0s 5ms/step - loss: 0.4289 - accuracy: 0.8906\n",
            "40/40 [==============================] - 0s 4ms/step - loss: 0.3962 - accuracy: 0.8931\n",
            "40/40 [==============================] - 0s 4ms/step - loss: 0.4139 - accuracy: 0.8953\n",
            "40/40 [==============================] - 0s 4ms/step - loss: 0.4136 - accuracy: 0.8902\n",
            "40/40 [==============================] - 0s 4ms/step - loss: 0.4163 - accuracy: 0.8864\n",
            "40/40 [==============================] - 0s 4ms/step - loss: 0.3991 - accuracy: 0.8904\n",
            "40/40 [==============================] - 0s 4ms/step - loss: 0.4090 - accuracy: 0.8881\n",
            "40/40 [==============================] - 0s 4ms/step - loss: 0.4411 - accuracy: 0.8879\n",
            "40/40 [==============================] - 0s 4ms/step - loss: 0.4185 - accuracy: 0.8906\n",
            "0.8903600037097931\n",
            "0.41363205313682555\n"
          ]
        }
      ]
    },
    {
      "cell_type": "code",
      "source": [
        "x_test_ready = normalize(flatten(x_test))\n",
        "y_test_cat = to_categorical(y_test)"
      ],
      "metadata": {
        "id": "Cyg7Q1goiD5d"
      },
      "execution_count": null,
      "outputs": []
    },
    {
      "cell_type": "code",
      "source": [
        "results = model_list[0].evaluate(x_test_ready, y_test_cat, batch_size=1)"
      ],
      "metadata": {
        "colab": {
          "base_uri": "https://localhost:8080/"
        },
        "id": "8zEEGlij-md5",
        "outputId": "f229fdaf-0634-4982-b489-72c7ee4ce037"
      },
      "execution_count": null,
      "outputs": [
        {
          "output_type": "stream",
          "name": "stdout",
          "text": [
            "10000/10000 [==============================] - 37s 4ms/step - loss: 0.4550 - accuracy: 0.8579\n"
          ]
        }
      ]
    },
    {
      "cell_type": "code",
      "source": [
        "results"
      ],
      "metadata": {
        "colab": {
          "base_uri": "https://localhost:8080/"
        },
        "id": "MgmWyqbd-8s4",
        "outputId": "d57d6c65-7b34-4f48-c0b3-9acdc237f997"
      },
      "execution_count": null,
      "outputs": [
        {
          "output_type": "execute_result",
          "data": {
            "text/plain": [
              "[0.4329693913459778, 0.8952000141143799]"
            ]
          },
          "metadata": {},
          "execution_count": 50
        }
      ]
    }
  ],
  "metadata": {
    "colab": {
      "collapsed_sections": [
        "YmI5Ce--xuxC",
        "aoy2nf3FxXVl",
        "D06Ws39pxmZi",
        "wlpnzw5uzQ4K"
      ],
      "provenance": []
    },
    "kernelspec": {
      "display_name": "Python 3",
      "name": "python3"
    },
    "language_info": {
      "name": "python"
    },
    "accelerator": "GPU"
  },
  "nbformat": 4,
  "nbformat_minor": 0
}